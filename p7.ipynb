{
 "cells": [
  {
   "cell_type": "code",
   "execution_count": 1,
   "id": "696b0ac7-75e5-4fa9-9b7b-d4d911fcdb51",
   "metadata": {},
   "outputs": [],
   "source": [
    "from google.cloud import bigquery\n",
    "bq = bigquery.Client(project=\"project-2-308905\")\n",
    "no_cache = bigquery.QueryJobConfig(use_query_cache=False)"
   ]
  },
  {
   "cell_type": "code",
   "execution_count": 2,
   "id": "c5251bf1-147c-48cd-b462-7b6ccf940992",
   "metadata": {
    "tags": []
   },
   "outputs": [
    {
     "data": {
      "text/plain": [
       "'55025'"
      ]
     },
     "execution_count": 2,
     "metadata": {},
     "output_type": "execute_result"
    }
   ],
   "source": [
    "#q1\n",
    "q1 = bq.query(\"\"\"\n",
    "SELECT geo_id, county_name\n",
    "FROM `bigquery-public-data.geo_us_boundaries.counties`\n",
    "WHERE county_name = \"Dane\"\n",
    "LIMIT 10\n",
    "\"\"\", job_config=no_cache)\n",
    "df1 = q1.to_dataframe()\n",
    "geo_id = df1[\"geo_id\"][0]\n",
    "geo_id"
   ]
  },
  {
   "cell_type": "code",
   "execution_count": 3,
   "id": "7dc44e45-d6f5-4983-8344-94b6ea114419",
   "metadata": {
    "tags": []
   },
   "outputs": [
    {
     "data": {
      "text/plain": [
       "{'48': 254, '13': 159, '51': 133, '21': 120, '29': 115}"
      ]
     },
     "execution_count": 3,
     "metadata": {},
     "output_type": "execute_result"
    }
   ],
   "source": [
    "#q2\n",
    "q2 = bq.query(\"\"\"\n",
    "SELECT state_fips_code, COUNT(county_name) as count\n",
    "FROM `bigquery-public-data.geo_us_boundaries.counties` \n",
    "GROUP BY state_fips_code\n",
    "ORDER BY count DESC\n",
    "LIMIT 5\n",
    "\"\"\", job_config=no_cache)\n",
    "df2 = q2.to_dataframe()\n",
    "dict(zip(df2[\"state_fips_code\"], df2[\"count\"]))"
   ]
  },
  {
   "cell_type": "code",
   "execution_count": 4,
   "id": "1cd7bfde-e807-453b-8397-d4b7bfd280ae",
   "metadata": {
    "tags": []
   },
   "outputs": [
    {
     "data": {
      "text/plain": [
       "{'q1': 4.76837158203125e-05, 'q2': 4.76837158203125e-05}"
      ]
     },
     "execution_count": 4,
     "metadata": {},
     "output_type": "execute_result"
    }
   ],
   "source": [
    "#q3\n",
    "costs = {}\n",
    "q1_cost = 5 * (q1.total_bytes_billed / 1024**4)\n",
    "q2_cost = 5 * (q2.total_bytes_billed / 1024**4)\n",
    "costs[\"q1\"] = q1_cost\n",
    "costs[\"q2\"] = q2_cost\n",
    "costs"
   ]
  },
  {
   "cell_type": "code",
   "execution_count": 5,
   "id": "a8171c7c-3bd9-4a33-9558-58ee5288c2c0",
   "metadata": {
    "tags": []
   },
   "outputs": [],
   "source": [
    "config = bigquery.LoadJobConfig(source_format=\"PARQUET\", write_disposition=\"WRITE_TRUNCATE\")\n",
    "job = bq.load_table_from_uri([\"gs://apr29/hdma-wi-2021.parquet\"],\n",
    "                             \"project-2-308905.p7.hdma\", job_config=config)"
   ]
  },
  {
   "cell_type": "code",
   "execution_count": 6,
   "id": "46569aef-f264-4e4a-a60f-a81032ebec11",
   "metadata": {
    "tags": []
   },
   "outputs": [
    {
     "data": {
      "text/plain": [
       "['p7']"
      ]
     },
     "execution_count": 6,
     "metadata": {},
     "output_type": "execute_result"
    }
   ],
   "source": [
    "#q4\n",
    "dataset = bigquery.Dataset(\"project-2-308905.p7\")\n",
    "bq.create_dataset(dataset, exists_ok=True)\n",
    "[ds.dataset_id for ds in bq.list_datasets(\"project-2-308905\")]"
   ]
  },
  {
   "cell_type": "code",
   "execution_count": 7,
   "id": "e9698e21-a899-44ae-9c35-6f98ff18fc87",
   "metadata": {
    "tags": []
   },
   "outputs": [
    {
     "data": {
      "text/plain": [
       "{'Milwaukee': 46570,\n",
       " 'Dane': 38557,\n",
       " 'Waukesha': 34159,\n",
       " 'Brown': 15615,\n",
       " 'Racine': 13007,\n",
       " 'Outagamie': 11523,\n",
       " 'Kenosha': 10744,\n",
       " 'Washington': 10726,\n",
       " 'Rock': 9834,\n",
       " 'Winnebago': 9310}"
      ]
     },
     "execution_count": 7,
     "metadata": {},
     "output_type": "execute_result"
    }
   ],
   "source": [
    "#q5\n",
    "q5 = bq.query(\"\"\"\n",
    "SELECT county_name, COUNT(*) as count\n",
    "FROM bigquery-public-data.geo_us_boundaries.counties as tb1\n",
    "INNER JOIN project-2-308905.p7.hdma as tb2\n",
    "ON tb1.county_fips_code = tb2.county_code\n",
    "GROUP BY county_name\n",
    "ORDER BY count DESC\n",
    "LIMIT 10\n",
    "\"\"\", job_config=no_cache)\n",
    "df5 = q5.to_dataframe()\n",
    "dict(zip(df5[\"county_name\"], df5[\"count\"]))"
   ]
  },
  {
   "cell_type": "code",
   "execution_count": 8,
   "id": "0fc474a1-63e6-4c80-9ffe-d6a8dc39a14c",
   "metadata": {
    "tags": []
   },
   "outputs": [],
   "source": [
    "url = \"https://drive.google.com/open?id=1e2qLPyxZ7s5ibMyEg7bxX2wWYAQD2ROAUcZuv8fqhnA\"\n",
    "\n",
    "external_config = bigquery.ExternalConfig(\"GOOGLE_SHEETS\")\n",
    "external_config.source_uris = [url]\n",
    "external_config.options.skip_leading_rows = 1\n",
    "external_config.autodetect = True\n",
    "\n",
    "table = bigquery.Table(dataset.table(\"applications\"))\n",
    "table.external_data_configuration = external_config\n",
    "\n",
    "table = bq.create_table(table, exists_ok=True)"
   ]
  },
  {
   "cell_type": "code",
   "execution_count": 9,
   "id": "7e4a4efa-b712-470c-83cc-03c32c8c80b5",
   "metadata": {},
   "outputs": [
    {
     "data": {
      "text/plain": [
       "11"
      ]
     },
     "execution_count": 9,
     "metadata": {},
     "output_type": "execute_result"
    }
   ],
   "source": [
    "#q6\n",
    "q6 = bq.query(\"\"\"\n",
    "SELECT COUNT(*) as count\n",
    "FROM project-2-308905.p7.applications\n",
    "WHERE income = 100000\n",
    "\"\"\", job_config=no_cache)\n",
    "df6 = q6.to_dataframe()\n",
    "df6[\"count\"][0]"
   ]
  },
  {
   "cell_type": "code",
   "execution_count": 10,
   "id": "cb17d5b3-deeb-4287-a4cc-e97166530df8",
   "metadata": {},
   "outputs": [],
   "source": [
    "wi = bq.query(\"\"\"\n",
    "CREATE OR REPLACE TABLE project-2-308905.p7.wi\n",
    "AS\n",
    "\n",
    "SELECT county_name, county_geom\n",
    "FROM bigquery-public-data.geo_us_boundaries.counties\n",
    "WHERE state_fips_code = '55' -- is WI\n",
    "\"\"\")\n",
    "\n",
    "homes = bq.query(\"\"\"\n",
    "CREATE OR REPLACE TABLE project-2-308905.p7.homes\n",
    "AS\n",
    "\n",
    "SELECT *, ST_GEOGPOINT(longitude, latitude) AS loc\n",
    "FROM project-2-308905.p7.applications\n",
    "WHERE (latitude BETWEEN 40 and 60) AND (longitude BETWEEN -100 and -75)\n",
    "\"\"\")"
   ]
  },
  {
   "cell_type": "code",
   "execution_count": 11,
   "id": "c41838c0-70c3-4ee9-a76a-85c363f61d46",
   "metadata": {
    "tags": []
   },
   "outputs": [
    {
     "data": {
      "text/plain": [
       "{'Columbia': 1,\n",
       " 'Sheboygan': 1,\n",
       " 'Oneida': 1,\n",
       " 'Adams': 1,\n",
       " 'Bayfield': 2,\n",
       " 'Green Lake': 1,\n",
       " 'Jefferson': 2,\n",
       " 'Monroe': 1,\n",
       " 'La Crosse': 1,\n",
       " 'Barron': 1,\n",
       " 'Brown': 3,\n",
       " 'Kewaunee': 1,\n",
       " 'Sauk': 1,\n",
       " 'Door': 4,\n",
       " 'Dane': 22,\n",
       " 'Walworth': 2,\n",
       " 'Waukesha': 1,\n",
       " 'Milwaukee': 1}"
      ]
     },
     "execution_count": 11,
     "metadata": {},
     "output_type": "execute_result"
    }
   ],
   "source": [
    "#q7\n",
    "q7 = bq.query(\"\"\"\n",
    "SELECT county_name, COUNT(*) as count\n",
    "FROM project-2-308905.p7.homes, project-2-308905.p7.wi\n",
    "WHERE ST_WITHIN(homes.loc, wi.county_geom)\n",
    "GROUP BY county_name\n",
    "\"\"\", job_config=no_cache)\n",
    "df7 = q7.to_dataframe()\n",
    "dict(zip(df7[\"county_name\"], df7[\"count\"]))"
   ]
  },
  {
   "cell_type": "code",
   "execution_count": 12,
   "id": "ede4e6d1-38b0-4a77-acbf-cb8b3984102c",
   "metadata": {
    "tags": []
   },
   "outputs": [
    {
     "data": {
      "text/plain": [
       "<google.cloud.bigquery.table._EmptyRowIterator at 0x7f4d14ce8ca0>"
      ]
     },
     "execution_count": 12,
     "metadata": {},
     "output_type": "execute_result"
    }
   ],
   "source": [
    "model = bq.query(\"\"\"\n",
    "CREATE OR REPLACE MODEL p7.mymodel\n",
    "OPTIONS(model_type='LINEAR_REG', INPUT_LABEL_COLS=['loan_amount'])\n",
    "\n",
    "AS\n",
    "\n",
    "SELECT income, loan_term, loan_amount\n",
    "FROM p7.hdma\n",
    "\"\"\")\n",
    "model.result()"
   ]
  },
  {
   "cell_type": "code",
   "execution_count": 13,
   "id": "cd8ccd3c-b0c5-4ba6-830a-fbedb21b7f95",
   "metadata": {
    "tags": []
   },
   "outputs": [
    {
     "data": {
      "text/plain": [
       "0.29165412288020376"
      ]
     },
     "execution_count": 13,
     "metadata": {},
     "output_type": "execute_result"
    }
   ],
   "source": [
    "#q8\n",
    "m = bq.query(\"\"\"\n",
    "SELECT *\n",
    "FROM\n",
    "ML.EVALUATE(\n",
    "    MODEL p7.mymodel,\n",
    "    (\n",
    "        SELECT income, loan_term, loan_amount\n",
    "        FROM p7.hdma\n",
    "    )\n",
    ")\n",
    "\"\"\")\n",
    "model_df = m.to_dataframe()\n",
    "model_df.iloc[0].at[\"r2_score\"]"
   ]
  },
  {
   "cell_type": "code",
   "execution_count": 14,
   "id": "2b9cf033-4516-4be8-b97d-3f2250757412",
   "metadata": {
    "tags": []
   },
   "outputs": [
    {
     "data": {
      "text/plain": [
       "0.8057773037176671"
      ]
     },
     "execution_count": 14,
     "metadata": {},
     "output_type": "execute_result"
    }
   ],
   "source": [
    "#q9\n",
    "weights_df = bq.query(\"\"\"\n",
    "SELECT * FROM\n",
    "ML.WEIGHTS(MODEL `p7.mymodel`)\n",
    "\"\"\").to_dataframe()\n",
    "weights_df.iloc[0][\"weight\"]"
   ]
  },
  {
   "cell_type": "code",
   "execution_count": 15,
   "id": "68e3df6f-255b-40f8-baf9-6581cd5cd3aa",
   "metadata": {},
   "outputs": [
    {
     "data": {
      "text/plain": [
       "0.6086956521739131"
      ]
     },
     "execution_count": 15,
     "metadata": {},
     "output_type": "execute_result"
    }
   ],
   "source": [
    "#q10\n",
    "predictions = bq.query(\"\"\"\n",
    "SELECT \n",
    "  CASE WHEN loan_amount > predicted_loan_amount \n",
    "    THEN 1 \n",
    "    ELSE 0 \n",
    "  END\n",
    "  AS new_col\n",
    "FROM\n",
    "ML.PREDICT(\n",
    "    MODEL p7.mymodel,\n",
    "    (\n",
    "        SELECT income, loan_amount, 360 AS loan_term\n",
    "        FROM p7.applications\n",
    "    )\n",
    ")\n",
    "\"\"\")\n",
    "predictions_df = predictions.to_dataframe()\n",
    "predictions_df['new_col'].mean()"
   ]
  }
 ],
 "metadata": {
  "kernelspec": {
   "display_name": "Python 3 (ipykernel)",
   "language": "python",
   "name": "python3"
  },
  "language_info": {
   "codemirror_mode": {
    "name": "ipython",
    "version": 3
   },
   "file_extension": ".py",
   "mimetype": "text/x-python",
   "name": "python",
   "nbconvert_exporter": "python",
   "pygments_lexer": "ipython3",
   "version": "3.8.10"
  }
 },
 "nbformat": 4,
 "nbformat_minor": 5
}
